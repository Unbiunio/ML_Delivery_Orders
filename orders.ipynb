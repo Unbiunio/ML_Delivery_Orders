{
 "cells": [
  {
   "cell_type": "markdown",
   "id": "99dc5ae1",
   "metadata": {},
   "source": [
    "Importar Librerias  "
   ]
  },
  {
   "cell_type": "code",
   "execution_count": 1,
   "id": "3227999c",
   "metadata": {},
   "outputs": [
    {
     "name": "stderr",
     "output_type": "stream",
     "text": [
      "c:\\Users\\rafas\\AppData\\Local\\Programs\\Python\\Python310\\lib\\site-packages\\tqdm\\auto.py:21: TqdmWarning: IProgress not found. Please update jupyter and ipywidgets. See https://ipywidgets.readthedocs.io/en/stable/user_install.html\n",
      "  from .autonotebook import tqdm as notebook_tqdm\n"
     ]
    }
   ],
   "source": [
    "# gestión de datos\n",
    "import numpy as np\n",
    "import pandas as pd\n",
    "\n",
    "# fechas\n",
    "import datetime as dt\n",
    "from datetime import datetime\n",
    "from dateutil.relativedelta import relativedelta\n",
    "\n",
    "# gráficos\n",
    "import seaborn as sns\n",
    "import matplotlib.pyplot as plt\n",
    "import jinja2\n",
    "\n",
    "# preprocessing\n",
    "from sklearn.preprocessing import OrdinalEncoder\n",
    "from sklearn.preprocessing import StandardScaler\n",
    "\n",
    "from sklearn.model_selection import train_test_split\n",
    "\n",
    "# modelos\n",
    "from sklearn.linear_model import LinearRegression, Ridge, Lasso, ElasticNet, SGDRegressor\n",
    "from sklearn.svm import SVC\n",
    "from sklearn.ensemble import RandomForestRegressor, GradientBoostingRegressor\n",
    "from xgboost import XGBRegressor\n",
    "from catboost import CatBoostRegressor\n",
    "\n",
    "# metricas\n",
    "import sklearn.metrics as metrics\n",
    "\n",
    "# interpretabilidad\n",
    "import shap\n",
    "\n",
    "# hiperparametrizado\n",
    "from sklearn.model_selection import GridSearchCV\n",
    "\n",
    "# quitar alertas\n",
    "import warnings\n",
    "warnings.filterwarnings(\"ignore\")"
   ]
  },
  {
   "cell_type": "code",
   "execution_count": 2,
   "id": "8f0277e1",
   "metadata": {},
   "outputs": [],
   "source": [
    "df = pd.read_csv('./DATA/pedidos_entrenar.csv')\n",
    "df_pred = pd.read_csv(\"./DATA/pedidos_predecir.csv\")"
   ]
  },
  {
   "cell_type": "code",
   "execution_count": 6,
   "id": "a22a6744",
   "metadata": {},
   "outputs": [
    {
     "data": {
      "text/html": [
       "<div>\n",
       "<style scoped>\n",
       "    .dataframe tbody tr th:only-of-type {\n",
       "        vertical-align: middle;\n",
       "    }\n",
       "\n",
       "    .dataframe tbody tr th {\n",
       "        vertical-align: top;\n",
       "    }\n",
       "\n",
       "    .dataframe thead th {\n",
       "        text-align: right;\n",
       "    }\n",
       "</style>\n",
       "<table border=\"1\" class=\"dataframe\">\n",
       "  <thead>\n",
       "    <tr style=\"text-align: right;\">\n",
       "      <th></th>\n",
       "      <th>order_id</th>\n",
       "      <th>local_time</th>\n",
       "      <th>country_code</th>\n",
       "      <th>store_address</th>\n",
       "      <th>payment_status</th>\n",
       "      <th>n_of_products</th>\n",
       "      <th>products_total</th>\n",
       "      <th>final_status</th>\n",
       "    </tr>\n",
       "  </thead>\n",
       "  <tbody>\n",
       "    <tr>\n",
       "      <th>0</th>\n",
       "      <td>33446280</td>\n",
       "      <td>14:11:09</td>\n",
       "      <td>AR</td>\n",
       "      <td>55379</td>\n",
       "      <td>PAID</td>\n",
       "      <td>2</td>\n",
       "      <td>11.88</td>\n",
       "      <td>DeliveredStatus</td>\n",
       "    </tr>\n",
       "  </tbody>\n",
       "</table>\n",
       "</div>"
      ],
      "text/plain": [
       "   order_id local_time country_code  store_address payment_status  \\\n",
       "0  33446280   14:11:09           AR          55379           PAID   \n",
       "\n",
       "   n_of_products  products_total     final_status  \n",
       "0              2           11.88  DeliveredStatus  "
      ]
     },
     "execution_count": 6,
     "metadata": {},
     "output_type": "execute_result"
    }
   ],
   "source": [
    "df.head(1)"
   ]
  },
  {
   "cell_type": "code",
   "execution_count": 9,
   "id": "93f9056c",
   "metadata": {},
   "outputs": [
    {
     "data": {
      "text/plain": [
       "payment_status\n",
       "PAID        53854\n",
       "NOT_PAID      470\n",
       "DELAYED         6\n",
       "Name: count, dtype: int64"
      ]
     },
     "execution_count": 9,
     "metadata": {},
     "output_type": "execute_result"
    }
   ],
   "source": [
    "df[\"payment_status\"].value_counts()"
   ]
  },
  {
   "cell_type": "code",
   "execution_count": 13,
   "id": "5b588fba",
   "metadata": {},
   "outputs": [
    {
     "name": "stdout",
     "output_type": "stream",
     "text": [
      "Value_counts order_id\n",
      "33446280    1\n",
      "32766208    1\n",
      "32869927    1\n",
      "32137313    1\n",
      "32609872    1\n",
      "           ..\n",
      "32363605    1\n",
      "33439367    1\n",
      "32773775    1\n",
      "32655367    1\n",
      "32695191    1\n",
      "Name: count, Length: 54330, dtype: int64 \n",
      "\n",
      "Unique [33446280 33107339 32960645 ... 32895248 32792276 32695191] \n",
      "\n",
      "Value_counts local_time\n",
      "09:03:01    38\n",
      "10:03:06    31\n",
      "10:03:05    26\n",
      "10:03:01    25\n",
      "10:03:02    24\n",
      "            ..\n",
      "18:16:53     1\n",
      "21:36:02     1\n",
      "11:42:25     1\n",
      "09:42:03     1\n",
      "12:21:30     1\n",
      "Name: count, Length: 32905, dtype: int64 \n",
      "\n",
      "Unique ['14:11:09' '11:47:41' '11:53:53' ... '23:12:31' '13:24:05' '12:21:30'] \n",
      "\n",
      "Value_counts country_code\n",
      "AR    11854\n",
      "ES    11554\n",
      "TR     5696\n",
      "PE     4284\n",
      "UA     3729\n",
      "IT     2537\n",
      "EC     2265\n",
      "RO     1957\n",
      "FR     1911\n",
      "EG     1643\n",
      "MA     1446\n",
      "CR     1000\n",
      "CL      994\n",
      "PA      909\n",
      "PT      818\n",
      "GT      511\n",
      "GE      485\n",
      "DO      448\n",
      "UY      169\n",
      "KE       84\n",
      "PR       29\n",
      "CI        6\n",
      "BR        1\n",
      "Name: count, dtype: int64 \n",
      "\n",
      "Unique ['AR' 'GT' 'CR' 'ES' 'PE' 'PA' 'FR' 'IT' 'TR' 'EC' 'RO' 'KE' 'UA' 'PT'\n",
      " 'DO' 'GE' 'MA' 'PR' 'CL' 'EG' 'UY' 'CI' 'BR'] \n",
      "\n",
      "Value_counts store_address\n",
      "28671    455\n",
      "12513    245\n",
      "28675    228\n",
      "14455    227\n",
      "28712    221\n",
      "        ... \n",
      "46535      1\n",
      "49167      1\n",
      "65082      1\n",
      "5585       1\n",
      "72353      1\n",
      "Name: count, Length: 5627, dtype: int64 \n",
      "\n",
      "Unique [55379 23487 62229 ... 69642 61330 72353] \n",
      "\n",
      "Value_counts payment_status\n",
      "PAID        53854\n",
      "NOT_PAID      470\n",
      "DELAYED         6\n",
      "Name: count, dtype: int64 \n",
      "\n",
      "Unique ['PAID' 'NOT_PAID' 'DELAYED'] \n",
      "\n",
      "Value_counts n_of_products\n",
      "1     19801\n",
      "2     13515\n",
      "3      7674\n",
      "4      4280\n",
      "5      2650\n",
      "6      1867\n",
      "7      1292\n",
      "8       996\n",
      "9       712\n",
      "10      574\n",
      "11      357\n",
      "12      220\n",
      "13      151\n",
      "14       97\n",
      "15       46\n",
      "16       27\n",
      "17       23\n",
      "19       14\n",
      "18       10\n",
      "20       10\n",
      "22        7\n",
      "21        2\n",
      "38        1\n",
      "26        1\n",
      "24        1\n",
      "27        1\n",
      "39        1\n",
      "Name: count, dtype: int64 \n",
      "\n",
      "Unique [ 2  1  6  3  5  7  9  4 12 11 21  8 13 10 15 14 19 20 17 26 16 18 38 22\n",
      " 24 27 39] \n",
      "\n",
      "Value_counts products_total\n",
      "4.30     183\n",
      "4.75     168\n",
      "6.00     157\n",
      "3.60     150\n",
      "5.30     149\n",
      "        ... \n",
      "33.72      1\n",
      "46.10      1\n",
      "29.71      1\n",
      "38.33      1\n",
      "30.97      1\n",
      "Name: count, Length: 3904, dtype: int64 \n",
      "\n",
      "Unique [11.88  5.2   6.03 ... 42.95 34.08 30.97] \n",
      "\n",
      "Value_counts final_status\n",
      "DeliveredStatus    48498\n",
      "CanceledStatus      5832\n",
      "Name: count, dtype: int64 \n",
      "\n",
      "Unique ['DeliveredStatus' 'CanceledStatus'] \n",
      "\n"
     ]
    }
   ],
   "source": [
    "for i in df:\n",
    "    print(\"Value_counts\",df[i].value_counts(),\"\\n\")\n",
    "    print(\"Unique\",df[i].unique(),\"\\n\")"
   ]
  },
  {
   "cell_type": "code",
   "execution_count": 14,
   "id": "442bc964",
   "metadata": {},
   "outputs": [
    {
     "data": {
      "text/plain": [
       "order_id          0\n",
       "local_time        0\n",
       "country_code      0\n",
       "store_address     0\n",
       "payment_status    0\n",
       "n_of_products     0\n",
       "products_total    0\n",
       "final_status      0\n",
       "dtype: int64"
      ]
     },
     "execution_count": 14,
     "metadata": {},
     "output_type": "execute_result"
    }
   ],
   "source": [
    "df.isnull().sum()"
   ]
  },
  {
   "cell_type": "code",
   "execution_count": null,
   "id": "d9804f9c",
   "metadata": {},
   "outputs": [
    {
     "data": {
      "text/plain": [
       "order_id          0\n",
       "local_time        0\n",
       "country_code      0\n",
       "store_address     0\n",
       "payment_status    0\n",
       "n_of_products     0\n",
       "products_total    0\n",
       "dtype: int64"
      ]
     },
     "execution_count": 15,
     "metadata": {},
     "output_type": "execute_result"
    }
   ],
   "source": [
    "tdf_pred.isnull().sum()"
   ]
  },
  {
   "cell_type": "code",
   "execution_count": 22,
   "id": "bb764e57",
   "metadata": {},
   "outputs": [
    {
     "data": {
      "text/plain": [
       "0"
      ]
     },
     "execution_count": 22,
     "metadata": {},
     "output_type": "execute_result"
    }
   ],
   "source": [
    "df.duplicated().sum()"
   ]
  },
  {
   "cell_type": "code",
   "execution_count": 25,
   "id": "696220ab",
   "metadata": {},
   "outputs": [
    {
     "data": {
      "text/plain": [
       "0"
      ]
     },
     "execution_count": 25,
     "metadata": {},
     "output_type": "execute_result"
    }
   ],
   "source": [
    "df_pred.duplicated().sum()"
   ]
  },
  {
   "cell_type": "code",
   "execution_count": 27,
   "id": "d260d991",
   "metadata": {},
   "outputs": [],
   "source": [
    "df[\"local_time\"] = pd.to_datetime(df[\"local_time\"])"
   ]
  },
  {
   "cell_type": "code",
   "execution_count": 28,
   "id": "5140af41",
   "metadata": {},
   "outputs": [],
   "source": [
    "df[\"hora_compra\"] = df[\"local_time\"].dt.hour"
   ]
  },
  {
   "cell_type": "code",
   "execution_count": 29,
   "id": "8b9e5a2f",
   "metadata": {},
   "outputs": [],
   "source": [
    "df_pred[\"local_time\"] = pd.to_datetime(df_pred[\"local_time\"])"
   ]
  },
  {
   "cell_type": "code",
   "execution_count": 30,
   "id": "bd875342",
   "metadata": {},
   "outputs": [],
   "source": [
    "df_pred[\"hora_compra\"] = df_pred[\"local_time\"].dt.hour"
   ]
  }
 ],
 "metadata": {
  "kernelspec": {
   "display_name": "Python 3",
   "language": "python",
   "name": "python3"
  },
  "language_info": {
   "codemirror_mode": {
    "name": "ipython",
    "version": 3
   },
   "file_extension": ".py",
   "mimetype": "text/x-python",
   "name": "python",
   "nbconvert_exporter": "python",
   "pygments_lexer": "ipython3",
   "version": "3.10.11"
  }
 },
 "nbformat": 4,
 "nbformat_minor": 5
}
